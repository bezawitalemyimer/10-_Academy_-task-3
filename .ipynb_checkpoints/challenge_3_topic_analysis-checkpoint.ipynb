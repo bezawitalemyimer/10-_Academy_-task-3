{
 "cells": [
  {
   "cell_type": "code",
   "execution_count": null,
   "id": "7b7c3663",
   "metadata": {},
   "outputs": [],
   "source": [
    "CHALLENGE - 3 - topic analysis"
   ]
  },
  {
   "cell_type": "code",
   "execution_count": 8,
   "id": "8503c8ad",
   "metadata": {},
   "outputs": [],
   "source": [
    "#IMPORTING\n",
    "\n",
    "import pandas as pd\n",
    "import warnings\n",
    "warnings.filterwarnings('ignore')\n",
    "from pprint import pprint\n",
    "import string\n",
    "import os\n",
    "import re\n",
    "\n",
    "\n",
    "import matplotlib.pyplot as plt\n",
    "import seaborn as sns\n",
    "\n",
    "\n",
    "from wordcloud import STOPWORDS,WordCloud\n",
    "import pyLDAvis\n",
    "import pyLDAvis.gensim_models as gensimvis\n",
    "\n",
    "\n",
    "import gensim\n",
    "from gensim.models import CoherenceModel\n",
    "from gensim import corpora\n",
    "\n",
    "\n",
    "\n",
    "file_name = 'tweet_data.csv'\n",
    "df = pd.read_csv(file_name)\n"
   ]
  },
  {
   "cell_type": "code",
   "execution_count": 9,
   "id": "251cfc7d",
   "metadata": {},
   "outputs": [
    {
     "data": {
      "text/html": [
       "<div>\n",
       "<style scoped>\n",
       "    .dataframe tbody tr th:only-of-type {\n",
       "        vertical-align: middle;\n",
       "    }\n",
       "\n",
       "    .dataframe tbody tr th {\n",
       "        vertical-align: top;\n",
       "    }\n",
       "\n",
       "    .dataframe thead th {\n",
       "        text-align: right;\n",
       "    }\n",
       "</style>\n",
       "<table border=\"1\" class=\"dataframe\">\n",
       "  <thead>\n",
       "    <tr style=\"text-align: right;\">\n",
       "      <th></th>\n",
       "      <th>created_at</th>\n",
       "      <th>source</th>\n",
       "      <th>original_text</th>\n",
       "      <th>polarity</th>\n",
       "      <th>subjectivity</th>\n",
       "      <th>lang</th>\n",
       "      <th>favorite_count</th>\n",
       "      <th>retweet_count</th>\n",
       "      <th>original_author</th>\n",
       "      <th>followers_count</th>\n",
       "      <th>friends_count</th>\n",
       "      <th>possibly_sensitive</th>\n",
       "      <th>hashtags</th>\n",
       "      <th>user_mentions</th>\n",
       "      <th>place</th>\n",
       "    </tr>\n",
       "  </thead>\n",
       "  <tbody>\n",
       "    <tr>\n",
       "      <th>0</th>\n",
       "      <td>Fri Jun 18 17:55:49 +0000 2021</td>\n",
       "      <td>&lt;a href=\"http://twitter.com/download/iphone\" r...</td>\n",
       "      <td>🚨Africa is \"in the midst of a full-blown third...</td>\n",
       "      <td>0.166667</td>\n",
       "      <td>0.188889</td>\n",
       "      <td>en</td>\n",
       "      <td>548</td>\n",
       "      <td>612.0</td>\n",
       "      <td>ketuesriche</td>\n",
       "      <td>551</td>\n",
       "      <td>351</td>\n",
       "      <td>NaN</td>\n",
       "      <td>NaN</td>\n",
       "      <td>NaN</td>\n",
       "      <td>Mass</td>\n",
       "    </tr>\n",
       "    <tr>\n",
       "      <th>1</th>\n",
       "      <td>Fri Jun 18 17:55:59 +0000 2021</td>\n",
       "      <td>&lt;a href=\"https://mobile.twitter.com\" rel=\"nofo...</td>\n",
       "      <td>Dr Moeti is head of WHO in Africa, and one of ...</td>\n",
       "      <td>0.133333</td>\n",
       "      <td>0.455556</td>\n",
       "      <td>en</td>\n",
       "      <td>195</td>\n",
       "      <td>92.0</td>\n",
       "      <td>Grid1949</td>\n",
       "      <td>66</td>\n",
       "      <td>92</td>\n",
       "      <td>NaN</td>\n",
       "      <td>NaN</td>\n",
       "      <td>NaN</td>\n",
       "      <td>Edinburgh, Scotland</td>\n",
       "    </tr>\n",
       "  </tbody>\n",
       "</table>\n",
       "</div>"
      ],
      "text/plain": [
       "                       created_at  \\\n",
       "0  Fri Jun 18 17:55:49 +0000 2021   \n",
       "1  Fri Jun 18 17:55:59 +0000 2021   \n",
       "\n",
       "                                              source  \\\n",
       "0  <a href=\"http://twitter.com/download/iphone\" r...   \n",
       "1  <a href=\"https://mobile.twitter.com\" rel=\"nofo...   \n",
       "\n",
       "                                       original_text  polarity  subjectivity  \\\n",
       "0  🚨Africa is \"in the midst of a full-blown third...  0.166667      0.188889   \n",
       "1  Dr Moeti is head of WHO in Africa, and one of ...  0.133333      0.455556   \n",
       "\n",
       "  lang  favorite_count  retweet_count original_author  followers_count  \\\n",
       "0   en             548          612.0     ketuesriche              551   \n",
       "1   en             195           92.0        Grid1949               66   \n",
       "\n",
       "   friends_count possibly_sensitive  hashtags  user_mentions  \\\n",
       "0            351                NaN       NaN            NaN   \n",
       "1             92                NaN       NaN            NaN   \n",
       "\n",
       "                 place  \n",
       "0                 Mass  \n",
       "1  Edinburgh, Scotland  "
      ]
     },
     "execution_count": 9,
     "metadata": {},
     "output_type": "execute_result"
    }
   ],
   "source": [
    "df.head(2)"
   ]
  },
  {
   "cell_type": "code",
   "execution_count": 10,
   "id": "f4a2a050",
   "metadata": {},
   "outputs": [
    {
     "data": {
      "text/plain": [
       "(6532, 15)"
      ]
     },
     "execution_count": 10,
     "metadata": {},
     "output_type": "execute_result"
    }
   ],
   "source": [
    "df.shape"
   ]
  },
  {
   "cell_type": "code",
   "execution_count": 11,
   "id": "1b577e50",
   "metadata": {},
   "outputs": [
    {
     "data": {
      "text/plain": [
       "Index(['created_at', 'source', 'original_text', 'polarity', 'subjectivity',\n",
       "       'lang', 'favorite_count', 'retweet_count', 'original_author',\n",
       "       'followers_count', 'friends_count', 'possibly_sensitive', 'hashtags',\n",
       "       'user_mentions', 'place'],\n",
       "      dtype='object')"
      ]
     },
     "execution_count": 11,
     "metadata": {},
     "output_type": "execute_result"
    }
   ],
   "source": [
    "df.columns"
   ]
  },
  {
   "cell_type": "code",
   "execution_count": 12,
   "id": "87c8aebd",
   "metadata": {},
   "outputs": [
    {
     "name": "stdout",
     "output_type": "stream",
     "text": [
      "Data Frame before removing null rows  (6532, 15)\n",
      "Number of null orignal_text  2812\n"
     ]
    }
   ],
   "source": [
    "count_texts = df['original_text'].isnull().sum()\n",
    "print(\"Data Frame before removing null rows \", df.shape)\n",
    "print(\"Number of null orignal_text \", count_texts)"
   ]
  },
  {
   "cell_type": "code",
   "execution_count": 13,
   "id": "a580b18d",
   "metadata": {},
   "outputs": [
    {
     "name": "stdout",
     "output_type": "stream",
     "text": [
      "Data Frame after removing null rows  (3720, 15)\n",
      "Number of null orignal_text  0\n"
     ]
    }
   ],
   "source": [
    "df = df[~df['original_text'].isnull()]\n",
    "count_texts = df['original_text'].isnull().sum()\n",
    "print(\"Data Frame after removing null rows \", df.shape)\n",
    "print(\"Number of null orignal_text \", count_texts)"
   ]
  },
  {
   "cell_type": "code",
   "execution_count": 14,
   "id": "c9f5c5d9",
   "metadata": {},
   "outputs": [],
   "source": [
    "import re\n",
    "def clean_text(text):\n",
    "    hash_tag_removed = re.sub('(#[A-Za-z]+[A-Za-z0-9-_]+)', '', text)\n",
    "    removed_links = re.sub('http[s]?://(?:[a-zA-Z]|[0-9]|[$-_@.&+]|[!*\\(\\),]|(?:%[0-9a-fA-F][0-9a-fA-F]))+', '', hash_tag_removed, flags=re.MULTILINE)\n",
    "    result = re.sub('(@[A-Za-z]+[A-Za-z0-9-_]+)', '', removed_links)\n",
    "    return result\n",
    "\n",
    "df['original_text'] = df['original_text'].apply(clean_text)"
   ]
  },
  {
   "cell_type": "code",
   "execution_count": 15,
   "id": "87ea193e",
   "metadata": {},
   "outputs": [
    {
     "data": {
      "text/html": [
       "<div>\n",
       "<style scoped>\n",
       "    .dataframe tbody tr th:only-of-type {\n",
       "        vertical-align: middle;\n",
       "    }\n",
       "\n",
       "    .dataframe tbody tr th {\n",
       "        vertical-align: top;\n",
       "    }\n",
       "\n",
       "    .dataframe thead th {\n",
       "        text-align: right;\n",
       "    }\n",
       "</style>\n",
       "<table border=\"1\" class=\"dataframe\">\n",
       "  <thead>\n",
       "    <tr style=\"text-align: right;\">\n",
       "      <th></th>\n",
       "      <th>clean_text</th>\n",
       "      <th>polarity</th>\n",
       "    </tr>\n",
       "  </thead>\n",
       "  <tbody>\n",
       "    <tr>\n",
       "      <th>0</th>\n",
       "      <td>🚨Africa is \"in the midst of a full-blown third...</td>\n",
       "      <td>0.166667</td>\n",
       "    </tr>\n",
       "    <tr>\n",
       "      <th>1</th>\n",
       "      <td>Dr Moeti is head of WHO in Africa, and one of ...</td>\n",
       "      <td>0.133333</td>\n",
       "    </tr>\n",
       "    <tr>\n",
       "      <th>2</th>\n",
       "      <td>Thank you  for creating this amazing campaign ...</td>\n",
       "      <td>0.316667</td>\n",
       "    </tr>\n",
       "    <tr>\n",
       "      <th>3</th>\n",
       "      <td>Former Pfizer VP and Virologist, Dr. Michael Y...</td>\n",
       "      <td>0.086111</td>\n",
       "    </tr>\n",
       "    <tr>\n",
       "      <th>4</th>\n",
       "      <td>I think it’s important that we don’t sell COVA...</td>\n",
       "      <td>0.280000</td>\n",
       "    </tr>\n",
       "  </tbody>\n",
       "</table>\n",
       "</div>"
      ],
      "text/plain": [
       "                                          clean_text  polarity\n",
       "0  🚨Africa is \"in the midst of a full-blown third...  0.166667\n",
       "1  Dr Moeti is head of WHO in Africa, and one of ...  0.133333\n",
       "2  Thank you  for creating this amazing campaign ...  0.316667\n",
       "3  Former Pfizer VP and Virologist, Dr. Michael Y...  0.086111\n",
       "4  I think it’s important that we don’t sell COVA...  0.280000"
      ]
     },
     "execution_count": 15,
     "metadata": {},
     "output_type": "execute_result"
    }
   ],
   "source": [
    "cleanTweet = pd.DataFrame()\n",
    "cleanTweet['clean_text'] = df['original_text']\n",
    "cleanTweet['polarity'] = df['polarity']\n",
    "\n",
    "cleanTweet.head()"
   ]
  },
  {
   "cell_type": "code",
   "execution_count": 16,
   "id": "2c56fa5a",
   "metadata": {},
   "outputs": [
    {
     "data": {
      "text/plain": [
       "Index(['clean_text', 'polarity'], dtype='object')"
      ]
     },
     "execution_count": 16,
     "metadata": {},
     "output_type": "execute_result"
    }
   ],
   "source": [
    "cleanTweet.columns"
   ]
  },
  {
   "cell_type": "code",
   "execution_count": 17,
   "id": "899ff38d",
   "metadata": {},
   "outputs": [
    {
     "data": {
      "text/html": [
       "<div>\n",
       "<style scoped>\n",
       "    .dataframe tbody tr th:only-of-type {\n",
       "        vertical-align: middle;\n",
       "    }\n",
       "\n",
       "    .dataframe tbody tr th {\n",
       "        vertical-align: top;\n",
       "    }\n",
       "\n",
       "    .dataframe thead th {\n",
       "        text-align: right;\n",
       "    }\n",
       "</style>\n",
       "<table border=\"1\" class=\"dataframe\">\n",
       "  <thead>\n",
       "    <tr style=\"text-align: right;\">\n",
       "      <th></th>\n",
       "      <th>clean_text</th>\n",
       "      <th>polarity</th>\n",
       "    </tr>\n",
       "  </thead>\n",
       "  <tbody>\n",
       "    <tr>\n",
       "      <th>0</th>\n",
       "      <td>🚨Africa is \"in the midst of a full-blown third...</td>\n",
       "      <td>0.166667</td>\n",
       "    </tr>\n",
       "    <tr>\n",
       "      <th>1</th>\n",
       "      <td>Dr Moeti is head of WHO in Africa, and one of ...</td>\n",
       "      <td>0.133333</td>\n",
       "    </tr>\n",
       "    <tr>\n",
       "      <th>2</th>\n",
       "      <td>Thank you  for creating this amazing campaign ...</td>\n",
       "      <td>0.316667</td>\n",
       "    </tr>\n",
       "    <tr>\n",
       "      <th>3</th>\n",
       "      <td>Former Pfizer VP and Virologist, Dr. Michael Y...</td>\n",
       "      <td>0.086111</td>\n",
       "    </tr>\n",
       "    <tr>\n",
       "      <th>4</th>\n",
       "      <td>I think it’s important that we don’t sell COVA...</td>\n",
       "      <td>0.280000</td>\n",
       "    </tr>\n",
       "    <tr>\n",
       "      <th>...</th>\n",
       "      <td>...</td>\n",
       "      <td>...</td>\n",
       "    </tr>\n",
       "    <tr>\n",
       "      <th>6521</th>\n",
       "      <td>Australia is sending vaccines.\\nAustralia is s...</td>\n",
       "      <td>0.100000</td>\n",
       "    </tr>\n",
       "    <tr>\n",
       "      <th>6522</th>\n",
       "      <td>The Truth Behind COVID-19 Vaccines (6) —— Bell...</td>\n",
       "      <td>-0.386111</td>\n",
       "    </tr>\n",
       "    <tr>\n",
       "      <th>6524</th>\n",
       "      <td>Covid19 vaccines reach the remotest places of ...</td>\n",
       "      <td>-0.050000</td>\n",
       "    </tr>\n",
       "    <tr>\n",
       "      <th>6528</th>\n",
       "      <td>Former Pfizer VP and Virologist, Dr. Michael Y...</td>\n",
       "      <td>0.086111</td>\n",
       "    </tr>\n",
       "    <tr>\n",
       "      <th>6530</th>\n",
       "      <td>\"Africa needs millions more doses here &amp;amp; n...</td>\n",
       "      <td>0.125000</td>\n",
       "    </tr>\n",
       "  </tbody>\n",
       "</table>\n",
       "<p>3720 rows × 2 columns</p>\n",
       "</div>"
      ],
      "text/plain": [
       "                                             clean_text  polarity\n",
       "0     🚨Africa is \"in the midst of a full-blown third...  0.166667\n",
       "1     Dr Moeti is head of WHO in Africa, and one of ...  0.133333\n",
       "2     Thank you  for creating this amazing campaign ...  0.316667\n",
       "3     Former Pfizer VP and Virologist, Dr. Michael Y...  0.086111\n",
       "4     I think it’s important that we don’t sell COVA...  0.280000\n",
       "...                                                 ...       ...\n",
       "6521  Australia is sending vaccines.\\nAustralia is s...  0.100000\n",
       "6522  The Truth Behind COVID-19 Vaccines (6) —— Bell... -0.386111\n",
       "6524  Covid19 vaccines reach the remotest places of ... -0.050000\n",
       "6528  Former Pfizer VP and Virologist, Dr. Michael Y...  0.086111\n",
       "6530  \"Africa needs millions more doses here &amp; n...  0.125000\n",
       "\n",
       "[3720 rows x 2 columns]"
      ]
     },
     "execution_count": 17,
     "metadata": {},
     "output_type": "execute_result"
    }
   ],
   "source": [
    "cleanTweet.dropna()"
   ]
  },
  {
   "cell_type": "code",
   "execution_count": 19,
   "id": "ed4f5258",
   "metadata": {},
   "outputs": [],
   "source": [
    "def process_data():\n",
    "    cleanTweet['clean_text'] = cleanTweet['clean_text'].apply(lambda x: x.lower())\n",
    "    cleanTweet['clean_text'] = cleanTweet['clean_text'].apply(lambda x: x.translate(str.maketrans(' ', ' ', string.punctuation)))\n",
    "    \n",
    "    sentence_list = [tweet for tweet in cleanTweet['clean_text']]\n",
    "    word_list = [sentence.split() for sentence in sentence_list]\n",
    "    \n",
    "    word_to_id = corpora.Dictionary(word_list)\n",
    "    corpus_1= [word_to_id.doc2bow(tweet) for tweet in word_list]\n",
    "    \n",
    "    return word_list, word_to_id, corpus_1"
   ]
  },
  {
   "cell_type": "code",
   "execution_count": 20,
   "id": "8e30b0b3",
   "metadata": {},
   "outputs": [
    {
     "name": "stdout",
     "output_type": "stream",
     "text": [
      "[(0, 1), (1, 1), (2, 1), (3, 1), (4, 1), (5, 1), (6, 2), (7, 1), (8, 1), (9, 1), (10, 1), (11, 1), (12, 1), (13, 2), (14, 1), (15, 2), (16, 1), (17, 1), (18, 1), (19, 1), (20, 3), (21, 1), (22, 2), (23, 1), (24, 4), (25, 1), (26, 1), (27, 1), (28, 1), (29, 1), (30, 1)]\n"
     ]
    }
   ],
   "source": [
    "word_list, id2word, corpus = process_data()\n",
    "print(corpus[0])"
   ]
  },
  {
   "cell_type": "code",
   "execution_count": 21,
   "id": "6c429cf8",
   "metadata": {},
   "outputs": [],
   "source": [
    "lda_model = gensim.models.ldamodel.LdaModel(corpus,\n",
    "                                           id2word=id2word,\n",
    "                                           num_topics=5, \n",
    "                                           random_state=100,\n",
    "                                           update_every=1,\n",
    "                                           chunksize=100,\n",
    "                                           passes=10,\n",
    "                                           alpha='auto',\n",
    "                                           per_word_topics=True)\n"
   ]
  },
  {
   "cell_type": "code",
   "execution_count": 22,
   "id": "10faa464",
   "metadata": {},
   "outputs": [
    {
     "name": "stdout",
     "output_type": "stream",
     "text": [
      "[(0,\n",
      "  [('the', 0.059252042),\n",
      "   ('of', 0.04634107),\n",
      "   ('in', 0.025933292),\n",
      "   ('and', 0.020663034),\n",
      "   ('to', 0.018838506),\n",
      "   ('vaccines', 0.016757308),\n",
      "   ('by', 0.016396984),\n",
      "   ('have', 0.015626783),\n",
      "   ('amp', 0.013902195),\n",
      "   ('on', 0.012009597)]),\n",
      " (1,\n",
      "  [('in', 0.044179697),\n",
      "   ('the', 0.03923091),\n",
      "   ('india', 0.037722167),\n",
      "   ('of', 0.03573105),\n",
      "   ('a', 0.027385112),\n",
      "   ('and', 0.021746434),\n",
      "   ('wave', 0.02091004),\n",
      "   ('africa', 0.020825425),\n",
      "   ('amp', 0.020103801),\n",
      "   ('third', 0.020095455)]),\n",
      " (2,\n",
      "  [('to', 0.058688473),\n",
      "   ('vaccines', 0.033360817),\n",
      "   ('need', 0.032535393),\n",
      "   ('we', 0.029929623),\n",
      "   ('the', 0.026091753),\n",
      "   ('are', 0.023548318),\n",
      "   ('and', 0.023392605),\n",
      "   ('you', 0.021670066),\n",
      "   ('from', 0.016076073),\n",
      "   ('with', 0.015258031)]),\n",
      " (3,\n",
      "  [('to', 0.069139645),\n",
      "   ('the', 0.036816932),\n",
      "   ('is', 0.028010888),\n",
      "   ('of', 0.02688309),\n",
      "   ('and', 0.026510037),\n",
      "   ('africa', 0.021838443),\n",
      "   ('vaccines', 0.019329678),\n",
      "   ('australia', 0.01771431),\n",
      "   ('in', 0.016117522),\n",
      "   ('a', 0.015858565)]),\n",
      " (4,\n",
      "  [('the', 0.045088463),\n",
      "   ('to', 0.029621523),\n",
      "   ('vaccines', 0.025563562),\n",
      "   ('in', 0.023684619),\n",
      "   ('are', 0.019936567),\n",
      "   ('of', 0.017601777),\n",
      "   ('vaccination', 0.015138584),\n",
      "   ('is', 0.012969),\n",
      "   ('a', 0.011691677),\n",
      "   ('world', 0.011141512)])]\n"
     ]
    }
   ],
   "source": [
    "pprint(lda_model.show_topics(formatted=False))"
   ]
  },
  {
   "cell_type": "code",
   "execution_count": 23,
   "id": "c2012f2e",
   "metadata": {},
   "outputs": [
    {
     "name": "stdout",
     "output_type": "stream",
     "text": [
      "\n",
      "Perplexity:  -6.079594595910208\n",
      "\n",
      " Ldamodel Coherence Score/Accuracy on Tweets:  0.41991022045536186\n"
     ]
    }
   ],
   "source": [
    "print('\\nPerplexity: ', lda_model.log_perplexity(corpus))  \n",
    "\n",
    "# Compute Coherence Score\n",
    "coherence_model_lda = CoherenceModel(model=lda_model, texts=word_list, dictionary=id2word, coherence='c_v')\n",
    "coherence_lda = coherence_model_lda.get_coherence()\n",
    "print('\\n Ldamodel Coherence Score/Accuracy on Tweets: ', coherence_lda)"
   ]
  },
  {
   "cell_type": "code",
   "execution_count": 24,
   "id": "4a1b9906",
   "metadata": {},
   "outputs": [
    {
     "data": {
      "text/plain": [
       "PreparedData(topic_coordinates=              x         y  topics  cluster       Freq\n",
       "topic                                                \n",
       "4      0.064693  0.113121       1        1  26.433145\n",
       "0     -0.127024 -0.013647       2        1  25.106812\n",
       "3      0.003640  0.200493       3        1  19.778449\n",
       "2      0.261863 -0.152088       4        1  15.150264\n",
       "1     -0.203171 -0.147879       5        1  13.531329, topic_info=       Term         Freq        Total Category  logprob  loglift\n",
       "244   india   681.000000   681.000000  Default  30.0000  30.0000\n",
       "205    need   658.000000   658.000000  Default  29.0000  29.0000\n",
       "54       to  5001.000000  5001.000000  Default  28.0000  28.0000\n",
       "15       in  2925.000000  2925.000000  Default  27.0000  27.0000\n",
       "59       we   850.000000   850.000000  Default  26.0000  26.0000\n",
       "..      ...          ...          ...      ...      ...      ...\n",
       "16       is   250.624982  1903.480669   Topic5  -4.2765  -0.0273\n",
       "54       to   317.691211  5001.302686   Topic5  -4.0394  -0.7562\n",
       "376   doses   169.320983   662.686120   Topic5  -4.6687   0.6357\n",
       "39   health   145.448807   576.301944   Topic5  -4.8207   0.6234\n",
       "251  should   132.729022   295.658723   Topic5  -4.9122   1.1993\n",
       "\n",
       "[304 rows x 6 columns], token_table=      Topic      Freq    Term\n",
       "term                         \n",
       "309       2  0.993071       1\n",
       "491       1  0.997723    2021\n",
       "3577      1  0.993318  204344\n",
       "1085      1  0.991884      21\n",
       "4312      4  0.988673    21st\n",
       "...     ...       ...     ...\n",
       "162       1  0.231085    your\n",
       "162       3  0.714264    your\n",
       "162       4  0.056021    your\n",
       "1046      1  0.996680   youre\n",
       "4166      4  0.994779       🔰\n",
       "\n",
       "[367 rows x 3 columns], R=30, lambda_step=0.01, plot_opts={'xlab': 'PC1', 'ylab': 'PC2'}, topic_order=[5, 1, 4, 3, 2])"
      ]
     },
     "execution_count": 24,
     "metadata": {},
     "output_type": "execute_result"
    }
   ],
   "source": [
    "vis = gensimvis.prepare(lda_model, corpus, id2word)\n",
    "vis"
   ]
  },
  {
   "cell_type": "code",
   "execution_count": null,
   "id": "b872275d",
   "metadata": {},
   "outputs": [],
   "source": []
  }
 ],
 "metadata": {
  "kernelspec": {
   "display_name": "Python 3",
   "language": "python",
   "name": "python3"
  },
  "language_info": {
   "codemirror_mode": {
    "name": "ipython",
    "version": 3
   },
   "file_extension": ".py",
   "mimetype": "text/x-python",
   "name": "python",
   "nbconvert_exporter": "python",
   "pygments_lexer": "ipython3",
   "version": "3.8.8"
  }
 },
 "nbformat": 4,
 "nbformat_minor": 5
}
